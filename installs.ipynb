{
 "cells": [
  {
   "cell_type": "code",
   "execution_count": 1,
   "metadata": {},
   "outputs": [
    {
     "name": "stdout",
     "output_type": "stream",
     "text": [
      "Collecting Scrapy\n",
      "  Using cached Scrapy-2.11.0-py2.py3-none-any.whl.metadata (5.2 kB)\n",
      "Collecting Twisted<23.8.0,>=18.9.0 (from Scrapy)\n",
      "  Using cached Twisted-22.10.0-py3-none-any.whl (3.1 MB)\n",
      "Collecting cryptography>=36.0.0 (from Scrapy)\n",
      "  Using cached cryptography-41.0.5-cp37-abi3-win_amd64.whl.metadata (5.3 kB)\n",
      "Collecting cssselect>=0.9.1 (from Scrapy)\n",
      "  Using cached cssselect-1.2.0-py2.py3-none-any.whl (18 kB)\n",
      "Collecting itemloaders>=1.0.1 (from Scrapy)\n",
      "  Using cached itemloaders-1.1.0-py3-none-any.whl (11 kB)\n",
      "Collecting parsel>=1.5.0 (from Scrapy)\n",
      "  Using cached parsel-1.8.1-py2.py3-none-any.whl (17 kB)\n",
      "Collecting pyOpenSSL>=21.0.0 (from Scrapy)\n",
      "  Using cached pyOpenSSL-23.3.0-py3-none-any.whl.metadata (12 kB)\n",
      "Collecting queuelib>=1.4.2 (from Scrapy)\n",
      "  Using cached queuelib-1.6.2-py2.py3-none-any.whl (13 kB)\n",
      "Collecting service-identity>=18.1.0 (from Scrapy)\n",
      "  Using cached service_identity-23.1.0-py3-none-any.whl.metadata (5.5 kB)\n",
      "Collecting w3lib>=1.17.0 (from Scrapy)\n",
      "  Using cached w3lib-2.1.2-py3-none-any.whl.metadata (1.1 kB)\n",
      "Collecting zope.interface>=5.1.0 (from Scrapy)\n",
      "  Using cached zope.interface-6.1-cp311-cp311-win_amd64.whl.metadata (42 kB)\n",
      "Collecting protego>=0.1.15 (from Scrapy)\n",
      "  Using cached Protego-0.3.0-py2.py3-none-any.whl.metadata (5.8 kB)\n",
      "Collecting itemadapter>=0.1.0 (from Scrapy)\n",
      "  Using cached itemadapter-0.8.0-py3-none-any.whl (11 kB)\n",
      "Requirement already satisfied: setuptools in c:\\users\\armunij\\onedrive\\documents\\uoc\\freecodecampscrapy\\venv\\lib\\site-packages (from Scrapy) (68.2.2)\n",
      "Requirement already satisfied: packaging in c:\\users\\armunij\\onedrive\\documents\\uoc\\freecodecampscrapy\\venv\\lib\\site-packages (from Scrapy) (23.2)\n",
      "Collecting tldextract (from Scrapy)\n",
      "  Using cached tldextract-5.1.0-py3-none-any.whl.metadata (11 kB)\n",
      "Collecting lxml>=4.4.1 (from Scrapy)\n",
      "  Using cached lxml-4.9.3-cp311-cp311-win_amd64.whl.metadata (3.9 kB)\n",
      "Collecting PyDispatcher>=2.0.5 (from Scrapy)\n",
      "  Using cached PyDispatcher-2.0.7-py3-none-any.whl (12 kB)\n",
      "Collecting cffi>=1.12 (from cryptography>=36.0.0->Scrapy)\n",
      "  Using cached cffi-1.16.0-cp311-cp311-win_amd64.whl.metadata (1.5 kB)\n",
      "Collecting jmespath>=0.9.5 (from itemloaders>=1.0.1->Scrapy)\n",
      "  Using cached jmespath-1.0.1-py3-none-any.whl (20 kB)\n",
      "Collecting attrs>=19.1.0 (from service-identity>=18.1.0->Scrapy)\n",
      "  Using cached attrs-23.1.0-py3-none-any.whl (61 kB)\n",
      "Collecting pyasn1 (from service-identity>=18.1.0->Scrapy)\n",
      "  Using cached pyasn1-0.5.0-py2.py3-none-any.whl (83 kB)\n",
      "Collecting pyasn1-modules (from service-identity>=18.1.0->Scrapy)\n",
      "  Using cached pyasn1_modules-0.3.0-py2.py3-none-any.whl (181 kB)\n",
      "Collecting constantly>=15.1 (from Twisted<23.8.0,>=18.9.0->Scrapy)\n",
      "  Using cached constantly-23.10.4-py3-none-any.whl.metadata (1.8 kB)\n",
      "Collecting incremental>=21.3.0 (from Twisted<23.8.0,>=18.9.0->Scrapy)\n",
      "  Using cached incremental-22.10.0-py2.py3-none-any.whl (16 kB)\n",
      "Collecting Automat>=0.8.0 (from Twisted<23.8.0,>=18.9.0->Scrapy)\n",
      "  Using cached Automat-22.10.0-py2.py3-none-any.whl (26 kB)\n",
      "Collecting hyperlink>=17.1.1 (from Twisted<23.8.0,>=18.9.0->Scrapy)\n",
      "  Using cached hyperlink-21.0.0-py2.py3-none-any.whl (74 kB)\n",
      "Collecting typing-extensions>=3.6.5 (from Twisted<23.8.0,>=18.9.0->Scrapy)\n",
      "  Using cached typing_extensions-4.8.0-py3-none-any.whl.metadata (3.0 kB)\n",
      "Collecting twisted-iocpsupport<2,>=1.0.2 (from Twisted<23.8.0,>=18.9.0->Scrapy)\n",
      "  Using cached twisted_iocpsupport-1.0.4-cp311-cp311-win_amd64.whl.metadata (2.2 kB)\n",
      "Collecting idna (from tldextract->Scrapy)\n",
      "  Using cached idna-3.4-py3-none-any.whl (61 kB)\n",
      "Collecting requests>=2.1.0 (from tldextract->Scrapy)\n",
      "  Using cached requests-2.31.0-py3-none-any.whl.metadata (4.6 kB)\n",
      "Collecting requests-file>=1.4 (from tldextract->Scrapy)\n",
      "  Using cached requests_file-1.5.1-py2.py3-none-any.whl (3.7 kB)\n",
      "Collecting filelock>=3.0.8 (from tldextract->Scrapy)\n",
      "  Using cached filelock-3.13.1-py3-none-any.whl.metadata (2.8 kB)\n",
      "Requirement already satisfied: six in c:\\users\\armunij\\onedrive\\documents\\uoc\\freecodecampscrapy\\venv\\lib\\site-packages (from Automat>=0.8.0->Twisted<23.8.0,>=18.9.0->Scrapy) (1.16.0)\n",
      "Collecting pycparser (from cffi>=1.12->cryptography>=36.0.0->Scrapy)\n",
      "  Using cached pycparser-2.21-py2.py3-none-any.whl (118 kB)\n",
      "Collecting charset-normalizer<4,>=2 (from requests>=2.1.0->tldextract->Scrapy)\n",
      "  Using cached charset_normalizer-3.3.2-cp311-cp311-win_amd64.whl.metadata (34 kB)\n",
      "Collecting urllib3<3,>=1.21.1 (from requests>=2.1.0->tldextract->Scrapy)\n",
      "  Using cached urllib3-2.0.7-py3-none-any.whl.metadata (6.6 kB)\n",
      "Collecting certifi>=2017.4.17 (from requests>=2.1.0->tldextract->Scrapy)\n",
      "  Using cached certifi-2023.7.22-py3-none-any.whl.metadata (2.2 kB)\n",
      "Using cached Scrapy-2.11.0-py2.py3-none-any.whl (286 kB)\n",
      "Using cached cryptography-41.0.5-cp37-abi3-win_amd64.whl (2.7 MB)\n",
      "Using cached lxml-4.9.3-cp311-cp311-win_amd64.whl (3.8 MB)\n",
      "Using cached Protego-0.3.0-py2.py3-none-any.whl (8.5 kB)\n",
      "Using cached pyOpenSSL-23.3.0-py3-none-any.whl (58 kB)\n",
      "Using cached service_identity-23.1.0-py3-none-any.whl (12 kB)\n",
      "Using cached w3lib-2.1.2-py3-none-any.whl (21 kB)\n",
      "Using cached zope.interface-6.1-cp311-cp311-win_amd64.whl (204 kB)\n",
      "Using cached tldextract-5.1.0-py3-none-any.whl (97 kB)\n",
      "Using cached cffi-1.16.0-cp311-cp311-win_amd64.whl (181 kB)\n",
      "Using cached constantly-23.10.4-py3-none-any.whl (13 kB)\n",
      "Using cached filelock-3.13.1-py3-none-any.whl (11 kB)\n",
      "Using cached requests-2.31.0-py3-none-any.whl (62 kB)\n",
      "Using cached twisted_iocpsupport-1.0.4-cp311-cp311-win_amd64.whl (47 kB)\n",
      "Using cached typing_extensions-4.8.0-py3-none-any.whl (31 kB)\n",
      "Using cached certifi-2023.7.22-py3-none-any.whl (158 kB)\n",
      "Using cached charset_normalizer-3.3.2-cp311-cp311-win_amd64.whl (99 kB)\n",
      "Using cached urllib3-2.0.7-py3-none-any.whl (124 kB)\n",
      "Installing collected packages: twisted-iocpsupport, PyDispatcher, incremental, zope.interface, w3lib, urllib3, typing-extensions, queuelib, pycparser, pyasn1, protego, lxml, jmespath, itemadapter, idna, filelock, cssselect, constantly, charset-normalizer, certifi, attrs, requests, pyasn1-modules, parsel, hyperlink, cffi, Automat, Twisted, requests-file, itemloaders, cryptography, tldextract, service-identity, pyOpenSSL, Scrapy\n",
      "Successfully installed Automat-22.10.0 PyDispatcher-2.0.7 Scrapy-2.11.0 Twisted-22.10.0 attrs-23.1.0 certifi-2023.7.22 cffi-1.16.0 charset-normalizer-3.3.2 constantly-23.10.4 cryptography-41.0.5 cssselect-1.2.0 filelock-3.13.1 hyperlink-21.0.0 idna-3.4 incremental-22.10.0 itemadapter-0.8.0 itemloaders-1.1.0 jmespath-1.0.1 lxml-4.9.3 parsel-1.8.1 protego-0.3.0 pyOpenSSL-23.3.0 pyasn1-0.5.0 pyasn1-modules-0.3.0 pycparser-2.21 queuelib-1.6.2 requests-2.31.0 requests-file-1.5.1 service-identity-23.1.0 tldextract-5.1.0 twisted-iocpsupport-1.0.4 typing-extensions-4.8.0 urllib3-2.0.7 w3lib-2.1.2 zope.interface-6.1\n"
     ]
    }
   ],
   "source": [
    "!pip install Scrapy"
   ]
  },
  {
   "cell_type": "code",
   "execution_count": 3,
   "metadata": {},
   "outputs": [
    {
     "name": "stdout",
     "output_type": "stream",
     "text": [
      "New Scrapy project 'bookscraper', using template directory 'C:\\Users\\ARMUNIJ\\OneDrive\\Documents\\UOC\\freecodecampScrapy\\venv\\Lib\\site-packages\\scrapy\\templates\\project', created in:\n",
      "    C:\\Users\\ARMUNIJ\\OneDrive\\Documents\\UOC\\freecodecampScrapy\\bookscraper\n",
      "\n",
      "You can start your first spider with:\n",
      "    cd bookscraper\n",
      "    scrapy genspider example example.com\n"
     ]
    }
   ],
   "source": [
    "!scrapy startproject bookscraper"
   ]
  },
  {
   "cell_type": "code",
   "execution_count": null,
   "metadata": {},
   "outputs": [],
   "source": []
  }
 ],
 "metadata": {
  "kernelspec": {
   "display_name": "venv",
   "language": "python",
   "name": "python3"
  },
  "language_info": {
   "codemirror_mode": {
    "name": "ipython",
    "version": 3
   },
   "file_extension": ".py",
   "mimetype": "text/x-python",
   "name": "python",
   "nbconvert_exporter": "python",
   "pygments_lexer": "ipython3",
   "version": "3.11.4"
  }
 },
 "nbformat": 4,
 "nbformat_minor": 2
}
